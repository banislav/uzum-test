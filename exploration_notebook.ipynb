{
 "cells": [
  {
   "cell_type": "markdown",
   "id": "55e5c6f5-8e4a-4324-a98a-c7ecfad2c43d",
   "metadata": {},
   "source": [
    "## Imports"
   ]
  },
  {
   "cell_type": "code",
   "execution_count": 2,
   "id": "2ae39d01-9a86-49da-ac3d-cf81daf6a47e",
   "metadata": {},
   "outputs": [],
   "source": [
    "import pandas as pd\n",
    "import matplotlib.pyplot as plt\n",
    "import torch\n",
    "\n",
    "from tqdm.notebook import tqdm\n",
    "from pandasql import sqldf\n",
    "from sklearn.preprocessing import LabelEncoder\n",
    "from transformers import BertTokenizer, BertModel\n",
    "# %load_ext autoreload\n",
    "# %autoreload 2"
   ]
  },
  {
   "cell_type": "markdown",
   "id": "3a395b5c-9053-4a51-a1f7-99b13e6828f8",
   "metadata": {},
   "source": [
    "## Read data"
   ]
  },
  {
   "cell_type": "code",
   "execution_count": 3,
   "id": "64d862e1-a3e6-4e94-a6ea-4a2cb5c48d03",
   "metadata": {},
   "outputs": [],
   "source": [
    "products_df = pd.read_parquet('data/products.parquet', engine='fastparquet')\n",
    "reasons_df = pd.read_parquet('data/return_reasons.parquet', engine='fastparquet')\n",
    "returns_df = pd.read_parquet('data/returns.parquet', engine='fastparquet')\n",
    "reviews_df = pd.read_parquet('data/reviews.parquet', engine='fastparquet')"
   ]
  },
  {
   "cell_type": "code",
   "execution_count": 4,
   "id": "19412c3e-7396-43a1-bf2e-e79b4cc03278",
   "metadata": {},
   "outputs": [],
   "source": [
    "test_df = pd.read_parquet('data/test.parquet', engine='fastparquet')"
   ]
  },
  {
   "cell_type": "code",
   "execution_count": 7,
   "id": "49f570b4-3371-4180-aa24-4e43aea3f978",
   "metadata": {},
   "outputs": [
    {
     "data": {
      "text/plain": [
       "array(['BAD_QUALITY', 'DEFECTED', 'PHOTO_MISMATCH', 'WRONG_ITEM',\n",
       "       'WRONG_SIZE'], dtype=object)"
      ]
     },
     "execution_count": 7,
     "metadata": {},
     "output_type": "execute_result"
    }
   ],
   "source": [
    "reason_encoder = LabelEncoder()\n",
    "returns_df['enc_cause'] = reason_encoder.fit_transform(returns_df.cause)\n",
    "reason_encoder.classes_"
   ]
  },
  {
   "cell_type": "code",
   "execution_count": 6,
   "id": "af170293-7918-48fb-8cb4-4010f9fc7995",
   "metadata": {},
   "outputs": [
    {
     "data": {
      "text/html": [
       "<div>\n",
       "<style scoped>\n",
       "    .dataframe tbody tr th:only-of-type {\n",
       "        vertical-align: middle;\n",
       "    }\n",
       "\n",
       "    .dataframe tbody tr th {\n",
       "        vertical-align: top;\n",
       "    }\n",
       "\n",
       "    .dataframe thead th {\n",
       "        text-align: right;\n",
       "    }\n",
       "</style>\n",
       "<table border=\"1\" class=\"dataframe\">\n",
       "  <thead>\n",
       "    <tr style=\"text-align: right;\">\n",
       "      <th></th>\n",
       "      <th>id</th>\n",
       "      <th>order_item_id</th>\n",
       "      <th>product_id</th>\n",
       "      <th>customer_id</th>\n",
       "      <th>purchase_price</th>\n",
       "    </tr>\n",
       "  </thead>\n",
       "  <tbody>\n",
       "    <tr>\n",
       "      <th>0</th>\n",
       "      <td>3821007</td>\n",
       "      <td>25924705</td>\n",
       "      <td>c6e37feeae4ffb32c596278be5803dfbb2cae811a49f0a...</td>\n",
       "      <td>470a3be7a2064ccf6a2af3aa143422f8d73ac00ad8260e...</td>\n",
       "      <td>39000</td>\n",
       "    </tr>\n",
       "    <tr>\n",
       "      <th>1</th>\n",
       "      <td>3821335</td>\n",
       "      <td>26389794</td>\n",
       "      <td>104b05b6121c26b6376a7c78cfd904c33a5eea1107c71b...</td>\n",
       "      <td>91b874267fc80a4340b005cae70a9d7acd91e69dba7247...</td>\n",
       "      <td>87000</td>\n",
       "    </tr>\n",
       "    <tr>\n",
       "      <th>2</th>\n",
       "      <td>3821336</td>\n",
       "      <td>26389795</td>\n",
       "      <td>280443845f883cb83da5f4d5a6d838ed00ade8bd4b0685...</td>\n",
       "      <td>91b874267fc80a4340b005cae70a9d7acd91e69dba7247...</td>\n",
       "      <td>84000</td>\n",
       "    </tr>\n",
       "    <tr>\n",
       "      <th>3</th>\n",
       "      <td>3821337</td>\n",
       "      <td>26389792</td>\n",
       "      <td>84e5505da2298dafaeaafe7208cb51934c89bdac7dbae2...</td>\n",
       "      <td>91b874267fc80a4340b005cae70a9d7acd91e69dba7247...</td>\n",
       "      <td>158000</td>\n",
       "    </tr>\n",
       "    <tr>\n",
       "      <th>4</th>\n",
       "      <td>3821727</td>\n",
       "      <td>26549302</td>\n",
       "      <td>ddb80318c47647c6965ff30536323cfb2366ef63a4741b...</td>\n",
       "      <td>9862a7d705cf00508b564544b2ecd727c1d87b0cea704f...</td>\n",
       "      <td>239000</td>\n",
       "    </tr>\n",
       "    <tr>\n",
       "      <th>...</th>\n",
       "      <td>...</td>\n",
       "      <td>...</td>\n",
       "      <td>...</td>\n",
       "      <td>...</td>\n",
       "      <td>...</td>\n",
       "    </tr>\n",
       "    <tr>\n",
       "      <th>71318</th>\n",
       "      <td>4944490</td>\n",
       "      <td>32945249</td>\n",
       "      <td>28f308b5361d7c0541b968c6f33cbe2ef51807a0cb0517...</td>\n",
       "      <td>b3be073ac14ba8517def13c0d6ce21924056d3256ef242...</td>\n",
       "      <td>45000</td>\n",
       "    </tr>\n",
       "    <tr>\n",
       "      <th>71319</th>\n",
       "      <td>4944488</td>\n",
       "      <td>32945254</td>\n",
       "      <td>d881ec71ad01554482d1210524adbc44f4020cc4872b40...</td>\n",
       "      <td>b3be073ac14ba8517def13c0d6ce21924056d3256ef242...</td>\n",
       "      <td>299000</td>\n",
       "    </tr>\n",
       "    <tr>\n",
       "      <th>71320</th>\n",
       "      <td>4944483</td>\n",
       "      <td>32945257</td>\n",
       "      <td>a52f123e7042433c90a689ed331a513ffcade48c3dc9d9...</td>\n",
       "      <td>b3be073ac14ba8517def13c0d6ce21924056d3256ef242...</td>\n",
       "      <td>399000</td>\n",
       "    </tr>\n",
       "    <tr>\n",
       "      <th>71321</th>\n",
       "      <td>4944545</td>\n",
       "      <td>33387915</td>\n",
       "      <td>d46c762ca85d57ed59ba50af01eba5628f4233afffbf1c...</td>\n",
       "      <td>3f14748cfba77c742d3bd715397bd04228262ed6096e45...</td>\n",
       "      <td>420000</td>\n",
       "    </tr>\n",
       "    <tr>\n",
       "      <th>71322</th>\n",
       "      <td>4944671</td>\n",
       "      <td>33397115</td>\n",
       "      <td>fea72607dc01c0c8615b1e13775d8ef493f15949776bd3...</td>\n",
       "      <td>b325041db96b6879602dbd979794152d7259aad80ce1c7...</td>\n",
       "      <td>79000</td>\n",
       "    </tr>\n",
       "  </tbody>\n",
       "</table>\n",
       "<p>71323 rows × 5 columns</p>\n",
       "</div>"
      ],
      "text/plain": [
       "            id  order_item_id  \\\n",
       "0      3821007       25924705   \n",
       "1      3821335       26389794   \n",
       "2      3821336       26389795   \n",
       "3      3821337       26389792   \n",
       "4      3821727       26549302   \n",
       "...        ...            ...   \n",
       "71318  4944490       32945249   \n",
       "71319  4944488       32945254   \n",
       "71320  4944483       32945257   \n",
       "71321  4944545       33387915   \n",
       "71322  4944671       33397115   \n",
       "\n",
       "                                              product_id  \\\n",
       "0      c6e37feeae4ffb32c596278be5803dfbb2cae811a49f0a...   \n",
       "1      104b05b6121c26b6376a7c78cfd904c33a5eea1107c71b...   \n",
       "2      280443845f883cb83da5f4d5a6d838ed00ade8bd4b0685...   \n",
       "3      84e5505da2298dafaeaafe7208cb51934c89bdac7dbae2...   \n",
       "4      ddb80318c47647c6965ff30536323cfb2366ef63a4741b...   \n",
       "...                                                  ...   \n",
       "71318  28f308b5361d7c0541b968c6f33cbe2ef51807a0cb0517...   \n",
       "71319  d881ec71ad01554482d1210524adbc44f4020cc4872b40...   \n",
       "71320  a52f123e7042433c90a689ed331a513ffcade48c3dc9d9...   \n",
       "71321  d46c762ca85d57ed59ba50af01eba5628f4233afffbf1c...   \n",
       "71322  fea72607dc01c0c8615b1e13775d8ef493f15949776bd3...   \n",
       "\n",
       "                                             customer_id  purchase_price  \n",
       "0      470a3be7a2064ccf6a2af3aa143422f8d73ac00ad8260e...           39000  \n",
       "1      91b874267fc80a4340b005cae70a9d7acd91e69dba7247...           87000  \n",
       "2      91b874267fc80a4340b005cae70a9d7acd91e69dba7247...           84000  \n",
       "3      91b874267fc80a4340b005cae70a9d7acd91e69dba7247...          158000  \n",
       "4      9862a7d705cf00508b564544b2ecd727c1d87b0cea704f...          239000  \n",
       "...                                                  ...             ...  \n",
       "71318  b3be073ac14ba8517def13c0d6ce21924056d3256ef242...           45000  \n",
       "71319  b3be073ac14ba8517def13c0d6ce21924056d3256ef242...          299000  \n",
       "71320  b3be073ac14ba8517def13c0d6ce21924056d3256ef242...          399000  \n",
       "71321  3f14748cfba77c742d3bd715397bd04228262ed6096e45...          420000  \n",
       "71322  b325041db96b6879602dbd979794152d7259aad80ce1c7...           79000  \n",
       "\n",
       "[71323 rows x 5 columns]"
      ]
     },
     "execution_count": 6,
     "metadata": {},
     "output_type": "execute_result"
    }
   ],
   "source": [
    "test_df"
   ]
  },
  {
   "cell_type": "markdown",
   "id": "a0f61f36-4177-413c-ad17-5b04af37717a",
   "metadata": {},
   "source": [
    "## Distribution of return reasons"
   ]
  },
  {
   "cell_type": "code",
   "execution_count": 7,
   "id": "aa6c7287-7ce4-453d-aa71-54bbb4cdfa04",
   "metadata": {},
   "outputs": [
    {
     "data": {
      "image/png": "[encoded data removed]",
      "text/plain": [
       "<Figure size 1500x500 with 2 Axes>"
      ]
     },
     "metadata": {},
     "output_type": "display_data"
    }
   ],
   "source": [
    "fig = plt.figure(figsize=(15, 5))\n",
    "ax = fig.add_subplot(1, 2, 1)\n",
    "plt.hist(returns_df.cause, width=0.6, color='purple');\n",
    "ax.set_title('Reasons')\n",
    "ax = fig.add_subplot(1, 2, 2)\n",
    "ax.set_title('Ratings')\n",
    "plt.hist(reviews_df.rating, width=0.3, color='orange');"
   ]
  },
  {
   "cell_type": "markdown",
   "id": "007629cd-679f-4da4-a469-c1be3e867126",
   "metadata": {},
   "source": [
    "## Data of each customer average rating"
   ]
  },
  {
   "cell_type": "code",
   "execution_count": 8,
   "id": "1c255636-c830-4a9d-b75d-b17dbc614c2c",
   "metadata": {},
   "outputs": [],
   "source": [
    "customers_ratings = sqldf(\n",
    "    '''\n",
    "    SELECT customer_id,\n",
    "           avg(rating )as customer_avg_rating\n",
    "      FROM reviews_df\n",
    "    GROUP BY customer_id\n",
    "    '''\n",
    ")"
   ]
  },
  {
   "cell_type": "markdown",
   "id": "b3a2cb87-0d3f-4a35-bf35-b703ebc90c13",
   "metadata": {},
   "source": [
    "## Data of each product average rating"
   ]
  },
  {
   "cell_type": "code",
   "execution_count": 9,
   "id": "4bd921dd-40d7-4a58-90a0-153091f2a6b3",
   "metadata": {},
   "outputs": [],
   "source": [
    "product_ratings = sqldf(\n",
    "    '''\n",
    "    SELECT product_id,\n",
    "           avg(rating) as product_avg_rating\n",
    "      FROM reviews_df\n",
    "    GROUP BY product_id\n",
    "    '''\n",
    ")"
   ]
  },
  {
   "cell_type": "markdown",
   "id": "70df9be0-f51b-4d95-8207-4ab60a510964",
   "metadata": {},
   "source": [
    "## Apply M-BERT feature selection to reviews"
   ]
  },
  {
   "cell_type": "code",
   "execution_count": 10,
   "id": "1551d942-a3f7-4c30-9d2b-280829cd9a32",
   "metadata": {},
   "outputs": [],
   "source": [
    "# reviews = reviews_df['review_text']\n",
    "# reviews = reviews.to_numpy()\n",
    "# reviews"
   ]
  },
  {
   "cell_type": "code",
   "execution_count": 11,
   "id": "1dd29ae0-8add-44aa-b7f8-760f240ef3e1",
   "metadata": {},
   "outputs": [],
   "source": [
    "# model_name = 'bert-base-multilingual-cased'\n",
    "# tokenizer = BertTokenizer.from_pretrained(model_name)\n",
    "# model = BertModel.from_pretrained(model_name)\n",
    "\n",
    "# cls_embeddings = []\n",
    "# BATCH_SIZE = 1000\n",
    "\n",
    "\n",
    "# for i in tqdm(range(0, len(reviews), BATCH_SIZE)):\n",
    "#     batch_reviews = reviews[i:i+BATCH_SIZE]\n",
    "#     enc_batch = tokenizer.batch_encode_plus(batch_reviews, return_tensors='pt', add_special_tokens=True, padding=True)\n",
    "    \n",
    "#     with torch.inference_mode():\n",
    "#         output = model(**enc_batch)\n",
    "\n",
    "#     cls_embeddings.append(output.pooler_output)"
   ]
  },
  {
   "cell_type": "markdown",
   "id": "f0e850ef-fd37-456f-83f8-5de7aaeee197",
   "metadata": {},
   "source": [
    "## Create train dataset to fit our model"
   ]
  },
  {
   "cell_type": "code",
   "execution_count": 12,
   "id": "2bfc1884-5092-448a-9319-5c3715f8574c",
   "metadata": {},
   "outputs": [],
   "source": [
    "train_df = sqldf(\n",
    "    '''\n",
    "    SELECT ret.id,\n",
    "           ret.enc_cause as target,\n",
    "           ret.purchase_price as price,\n",
    "           cr.customer_avg_rating,\n",
    "           pr.product_avg_rating\n",
    "      FROM returns_df ret\n",
    "      LEFT JOIN customers_ratings as cr \n",
    "        ON cr.customer_id = ret.customer_id\n",
    "      LEFT JOIN product_ratings as pr \n",
    "        ON pr.product_id = ret.product_id\n",
    "    '''\n",
    ")"
   ]
  },
  {
   "cell_type": "code",
   "execution_count": 13,
   "id": "a150b2d8-68b2-4b99-8c64-0b0fcf182ff3",
   "metadata": {},
   "outputs": [],
   "source": [
    "train_df.fillna(-1, inplace=True)\n",
    "train_df.drop(columns='id', inplace=True)"
   ]
  },
  {
   "cell_type": "code",
   "execution_count": 14,
   "id": "e7298322-f5af-43cf-b2e4-d9530c52225a",
   "metadata": {},
   "outputs": [],
   "source": [
    "train_df.to_csv('data/train_1.csv', index=False)"
   ]
  },
  {
   "cell_type": "code",
   "execution_count": 15,
   "id": "b58b2f5c-6073-4fae-9d2a-88b10e12f28c",
   "metadata": {},
   "outputs": [
    {
     "data": {
      "text/html": [
       "<div>\n",
       "<style scoped>\n",
       "    .dataframe tbody tr th:only-of-type {\n",
       "        vertical-align: middle;\n",
       "    }\n",
       "\n",
       "    .dataframe tbody tr th {\n",
       "        vertical-align: top;\n",
       "    }\n",
       "\n",
       "    .dataframe thead th {\n",
       "        text-align: right;\n",
       "    }\n",
       "</style>\n",
       "<table border=\"1\" class=\"dataframe\">\n",
       "  <thead>\n",
       "    <tr style=\"text-align: right;\">\n",
       "      <th></th>\n",
       "      <th>target</th>\n",
       "      <th>price</th>\n",
       "      <th>customer_avg_rating</th>\n",
       "      <th>product_avg_rating</th>\n",
       "    </tr>\n",
       "  </thead>\n",
       "  <tbody>\n",
       "    <tr>\n",
       "      <th>0</th>\n",
       "      <td>1</td>\n",
       "      <td>106000</td>\n",
       "      <td>-1.000000</td>\n",
       "      <td>4.000000</td>\n",
       "    </tr>\n",
       "    <tr>\n",
       "      <th>1</th>\n",
       "      <td>2</td>\n",
       "      <td>23000</td>\n",
       "      <td>-1.000000</td>\n",
       "      <td>4.776596</td>\n",
       "    </tr>\n",
       "    <tr>\n",
       "      <th>2</th>\n",
       "      <td>1</td>\n",
       "      <td>390000</td>\n",
       "      <td>1.000000</td>\n",
       "      <td>4.035714</td>\n",
       "    </tr>\n",
       "    <tr>\n",
       "      <th>3</th>\n",
       "      <td>3</td>\n",
       "      <td>71000</td>\n",
       "      <td>3.000000</td>\n",
       "      <td>1.000000</td>\n",
       "    </tr>\n",
       "    <tr>\n",
       "      <th>4</th>\n",
       "      <td>1</td>\n",
       "      <td>84000</td>\n",
       "      <td>4.333333</td>\n",
       "      <td>4.666667</td>\n",
       "    </tr>\n",
       "    <tr>\n",
       "      <th>...</th>\n",
       "      <td>...</td>\n",
       "      <td>...</td>\n",
       "      <td>...</td>\n",
       "      <td>...</td>\n",
       "    </tr>\n",
       "    <tr>\n",
       "      <th>282136</th>\n",
       "      <td>4</td>\n",
       "      <td>544000</td>\n",
       "      <td>4.619048</td>\n",
       "      <td>5.000000</td>\n",
       "    </tr>\n",
       "    <tr>\n",
       "      <th>282137</th>\n",
       "      <td>4</td>\n",
       "      <td>199000</td>\n",
       "      <td>4.619048</td>\n",
       "      <td>5.000000</td>\n",
       "    </tr>\n",
       "    <tr>\n",
       "      <th>282138</th>\n",
       "      <td>4</td>\n",
       "      <td>114000</td>\n",
       "      <td>3.000000</td>\n",
       "      <td>4.840909</td>\n",
       "    </tr>\n",
       "    <tr>\n",
       "      <th>282139</th>\n",
       "      <td>2</td>\n",
       "      <td>87000</td>\n",
       "      <td>-1.000000</td>\n",
       "      <td>4.750000</td>\n",
       "    </tr>\n",
       "    <tr>\n",
       "      <th>282140</th>\n",
       "      <td>2</td>\n",
       "      <td>700000</td>\n",
       "      <td>-1.000000</td>\n",
       "      <td>3.000000</td>\n",
       "    </tr>\n",
       "  </tbody>\n",
       "</table>\n",
       "<p>282141 rows × 4 columns</p>\n",
       "</div>"
      ],
      "text/plain": [
       "        target   price  customer_avg_rating  product_avg_rating\n",
       "0            1  106000            -1.000000            4.000000\n",
       "1            2   23000            -1.000000            4.776596\n",
       "2            1  390000             1.000000            4.035714\n",
       "3            3   71000             3.000000            1.000000\n",
       "4            1   84000             4.333333            4.666667\n",
       "...        ...     ...                  ...                 ...\n",
       "282136       4  544000             4.619048            5.000000\n",
       "282137       4  199000             4.619048            5.000000\n",
       "282138       4  114000             3.000000            4.840909\n",
       "282139       2   87000            -1.000000            4.750000\n",
       "282140       2  700000            -1.000000            3.000000\n",
       "\n",
       "[282141 rows x 4 columns]"
      ]
     },
     "execution_count": 15,
     "metadata": {},
     "output_type": "execute_result"
    }
   ],
   "source": [
    "train_df"
   ]
  },
  {
   "cell_type": "markdown",
   "id": "d321e819-57c8-4c9f-b51f-88eab494de8a",
   "metadata": {},
   "source": [
    "## Transform test dataset"
   ]
  },
  {
   "cell_type": "code",
   "execution_count": 16,
   "id": "970d415c-9f72-46ea-9c30-b673221cd277",
   "metadata": {},
   "outputs": [],
   "source": [
    "test_df = test_df.drop(columns='id')"
   ]
  },
  {
   "cell_type": "code",
   "execution_count": 17,
   "id": "c564d641-cd60-407d-9eca-77acae0291c2",
   "metadata": {},
   "outputs": [],
   "source": [
    "test_df = sqldf(\n",
    "    '''\n",
    "    SELECT t.purchase_price as price,\n",
    "           cr.customer_avg_rating,\n",
    "           pr.product_avg_rating\n",
    "      FROM test_df t\n",
    "    LEFT JOIN customers_ratings cr\n",
    "    ON cr.customer_id = t.customer_id\n",
    "    LEFT JOIN product_ratings pr\n",
    "    ON pr.product_id = t.product_id\n",
    "    '''\n",
    ")"
   ]
  },
  {
   "cell_type": "code",
   "execution_count": 18,
   "id": "8f9311e2-2504-4b25-b865-e574d1745381",
   "metadata": {},
   "outputs": [],
   "source": [
    "test_df.fillna(-1, inplace=True)"
   ]
  },
  {
   "cell_type": "code",
   "execution_count": 19,
   "id": "6cd8c9c0-952c-4644-9c1a-e86f1e2e15fc",
   "metadata": {},
   "outputs": [],
   "source": [
    "test_df.to_csv('data/test_1.csv', index=False)"
   ]
  },
  {
   "cell_type": "code",
   "execution_count": 29,
   "id": "05429242-cfea-404e-9ae4-c59522323957",
   "metadata": {},
   "outputs": [],
   "source": [
    "mapping = dict(zip(reason_encoder.classes_, range(len(reason_encoder.classes_))))"
   ]
  },
  {
   "cell_type": "code",
   "execution_count": 30,
   "id": "2443d659-4dc7-4341-87f6-f0d5e10867d6",
   "metadata": {},
   "outputs": [
    {
     "data": {
      "text/plain": [
       "{'BAD_QUALITY': 0,\n",
       " 'DEFECTED': 1,\n",
       " 'PHOTO_MISMATCH': 2,\n",
       " 'WRONG_ITEM': 3,\n",
       " 'WRONG_SIZE': 4}"
      ]
     },
     "execution_count": 30,
     "metadata": {},
     "output_type": "execute_result"
    }
   ],
   "source": [
    "mapping"
   ]
  },
  {
   "cell_type": "code",
   "execution_count": null,
   "id": "3271c8ce-4913-4723-a9a8-0287357e579a",
   "metadata": {},
   "outputs": [],
   "source": []
  }
 ],
 "metadata": {
  "kernelspec": {
   "display_name": "uzum-test",
   "language": "python",
   "name": "uzum-test"
  },
  "language_info": {
   "codemirror_mode": {
    "name": "ipython",
    "version": 3
   },
   "file_extension": ".py",
   "mimetype": "text/x-python",
   "name": "python",
   "nbconvert_exporter": "python",
   "pygments_lexer": "ipython3",
   "version": "3.10.14"
  }
 },
 "nbformat": 4,
 "nbformat_minor": 5
}
