{
 "cells": [
  {
   "cell_type": "code",
   "execution_count": 17,
   "id": "a0356ed7-9103-4863-bc0b-8e6f1a5fbf46",
   "metadata": {},
   "outputs": [],
   "source": [
    "import torch\n",
    "import torch.nn as nn\n",
    "import pandas as pd\n",
    "\n",
    "from model.model import ModelV1"
   ]
  },
  {
   "cell_type": "code",
   "execution_count": 3,
   "id": "d964840b-b45f-4d23-8c92-a3ac714cd165",
   "metadata": {},
   "outputs": [],
   "source": [
    "DEVICE = 'cuda' if torch.cuda.is_available() else 'cpu'"
   ]
  },
  {
   "cell_type": "code",
   "execution_count": 51,
   "id": "4154083e-4596-4cef-b4be-8e85f16488d1",
   "metadata": {},
   "outputs": [
    {
     "data": {
      "text/plain": [
       "<All keys matched successfully>"
      ]
     },
     "execution_count": 51,
     "metadata": {},
     "output_type": "execute_result"
    }
   ],
   "source": [
    "model = ModelV1().to(DEVICE)\n",
    "model.load_state_dict(torch.load('model/model-8-0.4839.pth', map_location=torch.device('cpu')))"
   ]
  },
  {
   "cell_type": "code",
   "execution_count": 58,
   "id": "9679f9cd-d28b-47df-b386-fc5931b0eb23",
   "metadata": {},
   "outputs": [
    {
     "data": {
      "text/html": [
       "<div>\n",
       "<style scoped>\n",
       "    .dataframe tbody tr th:only-of-type {\n",
       "        vertical-align: middle;\n",
       "    }\n",
       "\n",
       "    .dataframe tbody tr th {\n",
       "        vertical-align: top;\n",
       "    }\n",
       "\n",
       "    .dataframe thead th {\n",
       "        text-align: right;\n",
       "    }\n",
       "</style>\n",
       "<table border=\"1\" class=\"dataframe\">\n",
       "  <thead>\n",
       "    <tr style=\"text-align: right;\">\n",
       "      <th></th>\n",
       "      <th>price</th>\n",
       "      <th>customer_avg_rating</th>\n",
       "      <th>product_avg_rating</th>\n",
       "    </tr>\n",
       "  </thead>\n",
       "  <tbody>\n",
       "    <tr>\n",
       "      <th>0</th>\n",
       "      <td>39000</td>\n",
       "      <td>-1.000000</td>\n",
       "      <td>4.262136</td>\n",
       "    </tr>\n",
       "    <tr>\n",
       "      <th>1</th>\n",
       "      <td>87000</td>\n",
       "      <td>4.956522</td>\n",
       "      <td>4.774011</td>\n",
       "    </tr>\n",
       "    <tr>\n",
       "      <th>2</th>\n",
       "      <td>84000</td>\n",
       "      <td>4.956522</td>\n",
       "      <td>4.250000</td>\n",
       "    </tr>\n",
       "    <tr>\n",
       "      <th>3</th>\n",
       "      <td>158000</td>\n",
       "      <td>4.956522</td>\n",
       "      <td>5.000000</td>\n",
       "    </tr>\n",
       "    <tr>\n",
       "      <th>4</th>\n",
       "      <td>239000</td>\n",
       "      <td>5.000000</td>\n",
       "      <td>4.701754</td>\n",
       "    </tr>\n",
       "    <tr>\n",
       "      <th>...</th>\n",
       "      <td>...</td>\n",
       "      <td>...</td>\n",
       "      <td>...</td>\n",
       "    </tr>\n",
       "    <tr>\n",
       "      <th>71318</th>\n",
       "      <td>45000</td>\n",
       "      <td>-1.000000</td>\n",
       "      <td>5.000000</td>\n",
       "    </tr>\n",
       "    <tr>\n",
       "      <th>71319</th>\n",
       "      <td>299000</td>\n",
       "      <td>-1.000000</td>\n",
       "      <td>4.909091</td>\n",
       "    </tr>\n",
       "    <tr>\n",
       "      <th>71320</th>\n",
       "      <td>399000</td>\n",
       "      <td>-1.000000</td>\n",
       "      <td>4.222222</td>\n",
       "    </tr>\n",
       "    <tr>\n",
       "      <th>71321</th>\n",
       "      <td>420000</td>\n",
       "      <td>-1.000000</td>\n",
       "      <td>4.875000</td>\n",
       "    </tr>\n",
       "    <tr>\n",
       "      <th>71322</th>\n",
       "      <td>79000</td>\n",
       "      <td>-1.000000</td>\n",
       "      <td>-1.000000</td>\n",
       "    </tr>\n",
       "  </tbody>\n",
       "</table>\n",
       "<p>71323 rows × 3 columns</p>\n",
       "</div>"
      ],
      "text/plain": [
       "        price  customer_avg_rating  product_avg_rating\n",
       "0       39000            -1.000000            4.262136\n",
       "1       87000             4.956522            4.774011\n",
       "2       84000             4.956522            4.250000\n",
       "3      158000             4.956522            5.000000\n",
       "4      239000             5.000000            4.701754\n",
       "...       ...                  ...                 ...\n",
       "71318   45000            -1.000000            5.000000\n",
       "71319  299000            -1.000000            4.909091\n",
       "71320  399000            -1.000000            4.222222\n",
       "71321  420000            -1.000000            4.875000\n",
       "71322   79000            -1.000000           -1.000000\n",
       "\n",
       "[71323 rows x 3 columns]"
      ]
     },
     "execution_count": 58,
     "metadata": {},
     "output_type": "execute_result"
    }
   ],
   "source": [
    "df = pd.read_csv('data/test_1.csv')\n",
    "df"
   ]
  },
  {
   "cell_type": "code",
   "execution_count": 60,
   "id": "33f65b0d-57d4-419a-a75f-862e4f5582ad",
   "metadata": {},
   "outputs": [],
   "source": [
    "def predict(X, model, device):\n",
    "    model.eval()\n",
    "    X = X.to(device)\n",
    "    X = X.to(torch.float32)\n",
    "    \n",
    "    with torch.inference_mode():\n",
    "        logits = model(X)\n",
    "        \n",
    "    return nn.functional.softmax(logits, dim=1)"
   ]
  },
  {
   "cell_type": "code",
   "execution_count": 65,
   "id": "bf351313-b656-4412-9aed-0d307dfd7f7f",
   "metadata": {},
   "outputs": [],
   "source": [
    "data = torch.tensor(df.values)\n",
    "preds = torch.argmax(predict(data, model, DEVICE), dim=1)"
   ]
  },
  {
   "cell_type": "code",
   "execution_count": null,
   "id": "a4e5e54d-e041-4863-a0de-d63f16bf00c0",
   "metadata": {},
   "outputs": [],
   "source": []
  }
 ],
 "metadata": {
  "kernelspec": {
   "display_name": "uzum-test",
   "language": "python",
   "name": "uzum-test"
  },
  "language_info": {
   "codemirror_mode": {
    "name": "ipython",
    "version": 3
   },
   "file_extension": ".py",
   "mimetype": "text/x-python",
   "name": "python",
   "nbconvert_exporter": "python",
   "pygments_lexer": "ipython3",
   "version": "3.10.14"
  }
 },
 "nbformat": 4,
 "nbformat_minor": 5
}
