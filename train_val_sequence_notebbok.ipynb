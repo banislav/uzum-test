{
 "cells": [
  {
   "cell_type": "markdown",
   "id": "dc810733-b90d-411d-b68a-4933df506124",
   "metadata": {},
   "source": [
    "## Imports"
   ]
  },
  {
   "cell_type": "code",
   "execution_count": 41,
   "id": "d7ea2952-6008-49c1-9fdf-f2b02aa6819c",
   "metadata": {},
   "outputs": [
    {
     "name": "stdout",
     "output_type": "stream",
     "text": [
      "The autoreload extension is already loaded. To reload it, use:\n",
      "  %reload_ext autoreload\n"
     ]
    }
   ],
   "source": [
    "import torch\n",
    "import torch.nn as nn\n",
    "import pandas as pd\n",
    "import numpy as np\n",
    "\n",
    "from torch.utils.data import DataLoader, random_split\n",
    "from tqdm.notebook import tqdm_notebook\n",
    "\n",
    "import os\n",
    "\n",
    "from model.model import ModelV1\n",
    "from utils.dataset import ReturnsDataset\n",
    "\n",
    "%load_ext autoreload\n",
    "%autoreload 2"
   ]
  },
  {
   "cell_type": "markdown",
   "id": "76288081-d06d-484d-bffb-b56ed5769a2b",
   "metadata": {},
   "source": [
    "## Global variables"
   ]
  },
  {
   "cell_type": "code",
   "execution_count": 42,
   "id": "5b9a46fd-e810-4106-b38c-4b6613de4cd1",
   "metadata": {},
   "outputs": [],
   "source": [
    "BATCH_SIZE = 128\n",
    "VAL_RATIO = 0.1\n",
    "\n",
    "DEVICE = 'cuda' if torch.cuda.is_available() else 'cpu'"
   ]
  },
  {
   "cell_type": "markdown",
   "id": "a07c41bb-57fd-43dc-8f74-2df228e11339",
   "metadata": {},
   "source": [
    "## Get dataset splits and loaders"
   ]
  },
  {
   "cell_type": "code",
   "execution_count": 70,
   "id": "f7fc1d48-b8f8-48f3-9425-8a3b9b0313d6",
   "metadata": {},
   "outputs": [],
   "source": [
    "dataset = ReturnsDataset(split='train')\n",
    "train_data, val_data = random_split(dataset=dataset, lengths=[(1-VAL_RATIO), VAL_RATIO])\n",
    "\n",
    "test_data = ReturnsDataset(split='test')"
   ]
  },
  {
   "cell_type": "code",
   "execution_count": 71,
   "id": "9ecd5715-aa59-4219-a5bc-5d676b6fa412",
   "metadata": {},
   "outputs": [],
   "source": [
    "train_loader = DataLoader(\n",
    "    dataset=train_data,\n",
    "    batch_size=BATCH_SIZE,\n",
    "    shuffle=True,\n",
    ")\n",
    "\n",
    "val_loader = DataLoader(\n",
    "    dataset=val_data,\n",
    "    batch_size=BATCH_SIZE,\n",
    "    shuffle=True,\n",
    ")"
   ]
  },
  {
   "cell_type": "markdown",
   "id": "9dea73ce-b993-421f-b2ba-8593ce39247b",
   "metadata": {},
   "source": [
    "## Average meter class to measure avg loss and accuracy"
   ]
  },
  {
   "cell_type": "code",
   "execution_count": 45,
   "id": "ad407884-e390-4cde-b39a-81ed5d6a902c",
   "metadata": {},
   "outputs": [],
   "source": [
    "import math\n",
    "\n",
    "class AverageMeter:\n",
    "    \"\"\"Computes and stores the average and current value\"\"\"\n",
    "    def __init__(self):\n",
    "        self.reset()\n",
    "\n",
    "    def reset(self):\n",
    "        self.avg = 0\n",
    "        self.sum = 0\n",
    "        self.count = 0\n",
    "\n",
    "    def update(self, val, n=1):\n",
    "        self.sum += val * n\n",
    "        self.count += n\n",
    "        self.avg = self.sum / (self.count + 1e-8)"
   ]
  },
  {
   "cell_type": "markdown",
   "id": "e11ec504-1ae9-4216-9015-2ecc8f02a922",
   "metadata": {},
   "source": [
    "## Define accuracy metric"
   ]
  },
  {
   "cell_type": "code",
   "execution_count": 46,
   "id": "1ea81eba-f2a1-4c5d-9848-1d86d9c2cab7",
   "metadata": {},
   "outputs": [],
   "source": [
    "def get_accuracy(y_true, y_pred):\n",
    "    scores = []\n",
    "    for true, pred in zip(y_true, y_pred):\n",
    "        scores.append(true == pred)\n",
    "    avg_score = np.mean(scores)\n",
    "    return avg_score"
   ]
  },
  {
   "cell_type": "markdown",
   "id": "7ca2364f-5529-4a11-83aa-82eff01c5834",
   "metadata": {},
   "source": [
    "## Train and validation loops"
   ]
  },
  {
   "cell_type": "code",
   "execution_count": 47,
   "id": "d8ebf80e-4f56-439b-9d71-93c6a511785c",
   "metadata": {},
   "outputs": [],
   "source": [
    "def train_loop(data_loader: torch.utils.data.DataLoader,\n",
    "               model: nn.Module, \n",
    "               optimizer: torch.optim.Optimizer,\n",
    "               criterion: nn.Module,\n",
    "               epoch: int):\n",
    "    model.train()\n",
    "    loss_avg = AverageMeter()\n",
    "    \n",
    "    for x, targets in tqdm_notebook(data_loader, desc='Training progress'):\n",
    "        model.zero_grad()\n",
    "        x = x.to(torch.float32)\n",
    "        targets = targets.to(torch.float32)\n",
    "        \n",
    "        preds = model(x)\n",
    "        # probs = torch.softmax(preds, dim=1)\n",
    "\n",
    "        loss = criterion(preds, targets.long())\n",
    "        loss_avg.update(val=loss.item(), n=len(targets))\n",
    "        loss.retain_grad()\n",
    "        loss.backward()\n",
    "        optimizer.step()\n",
    "\n",
    "    print(f'Epoch: {epoch}, Loss: {loss_avg.avg} ')\n",
    "\n",
    "    return loss_avg.avg\n"
   ]
  },
  {
   "cell_type": "code",
   "execution_count": 48,
   "id": "47110fbe-b0ef-45d7-9ec1-7fbfd36c7488",
   "metadata": {},
   "outputs": [],
   "source": [
    "def val_loop(data_loader: torch.utils.data.DataLoader, \n",
    "             model: nn.Module,\n",
    "             device: torch.device,\n",
    "             batch_size: int):\n",
    "    \n",
    "    acc_avg = AverageMeter()\n",
    "    \n",
    "    for x, target in tqdm_notebook(data_loader, desc='Validation progress'):\n",
    "        probs = predict(x, model=model, device=DEVICE)\n",
    "        acc_avg.update(val=get_accuracy(target, torch.argmax(probs, dim=1)), n=batch_size)\n",
    "            \n",
    "    \n",
    "    print(f'Validation accuracy: {acc_avg.avg}')\n",
    "\n",
    "    return acc_avg.avg"
   ]
  },
  {
   "cell_type": "markdown",
   "id": "1f43a63c-9304-4ba0-9b1f-109facafce8f",
   "metadata": {},
   "source": [
    "## Predict function"
   ]
  },
  {
   "cell_type": "code",
   "execution_count": 49,
   "id": "18dfd0a0-ba0e-43d0-aaf4-f7015d6d7a47",
   "metadata": {},
   "outputs": [],
   "source": [
    "def predict(X, model, device):\n",
    "    model.eval()\n",
    "    X = X.to(device)\n",
    "    X = X.to(torch.float32)\n",
    "    \n",
    "    with torch.inference_mode():\n",
    "        logits = model(X)\n",
    "        \n",
    "    return nn.functional.softmax(logits, dim=1)"
   ]
  },
  {
   "cell_type": "code",
   "execution_count": 25,
   "id": "063fdf4a-a970-4ccb-bfe2-69530a46f762",
   "metadata": {},
   "outputs": [
    {
     "data": {
      "application/vnd.jupyter.widget-view+json": {
       "model_id": "7f30f292bf3a4dc491142bf4f8dcf018",
       "version_major": 2,
       "version_minor": 0
      },
      "text/plain": [
       "Epochs:   0%|          | 0/10 [00:00<?, ?it/s]"
      ]
     },
     "metadata": {},
     "output_type": "display_data"
    },
    {
     "data": {
      "application/vnd.jupyter.widget-view+json": {
       "model_id": "6878bb035a954a55925f004b70bd5acc",
       "version_major": 2,
       "version_minor": 0
      },
      "text/plain": [
       "Training progress:   0%|          | 0/1984 [00:00<?, ?it/s]"
      ]
     },
     "metadata": {},
     "output_type": "display_data"
    },
    {
     "name": "stdout",
     "output_type": "stream",
     "text": [
      "Epoch: 0, Loss: 340.6641918514498 \n"
     ]
    },
    {
     "data": {
      "application/vnd.jupyter.widget-view+json": {
       "model_id": "74af52fee77944a2b49c00d7387f00df",
       "version_major": 2,
       "version_minor": 0
      },
      "text/plain": [
       "Validation progress:   0%|          | 0/221 [00:00<?, ?it/s]"
      ]
     },
     "metadata": {},
     "output_type": "display_data"
    },
    {
     "name": "stdout",
     "output_type": "stream",
     "text": [
      "Validation accuracy: 0.48291252932779977\n",
      "Model weights have been saved\n"
     ]
    },
    {
     "data": {
      "application/vnd.jupyter.widget-view+json": {
       "model_id": "a81eeddf63454638bd9553817f0693d5",
       "version_major": 2,
       "version_minor": 0
      },
      "text/plain": [
       "Training progress:   0%|          | 0/1984 [00:00<?, ?it/s]"
      ]
     },
     "metadata": {},
     "output_type": "display_data"
    },
    {
     "name": "stdout",
     "output_type": "stream",
     "text": [
      "Epoch: 1, Loss: 16.491828675559127 \n"
     ]
    },
    {
     "data": {
      "application/vnd.jupyter.widget-view+json": {
       "model_id": "d9dec68ab99d47e0bc82d8ea4eaa1ff2",
       "version_major": 2,
       "version_minor": 0
      },
      "text/plain": [
       "Validation progress:   0%|          | 0/221 [00:00<?, ?it/s]"
      ]
     },
     "metadata": {},
     "output_type": "display_data"
    },
    {
     "name": "stdout",
     "output_type": "stream",
     "text": [
      "Validation accuracy: 0.42973201566936375\n"
     ]
    },
    {
     "data": {
      "application/vnd.jupyter.widget-view+json": {
       "model_id": "94f48b6379af48b0ad4b4b0b8e961f65",
       "version_major": 2,
       "version_minor": 0
      },
      "text/plain": [
       "Training progress:   0%|          | 0/1984 [00:00<?, ?it/s]"
      ]
     },
     "metadata": {},
     "output_type": "display_data"
    },
    {
     "name": "stdout",
     "output_type": "stream",
     "text": [
      "Epoch: 2, Loss: 1.414852607620423 \n"
     ]
    },
    {
     "data": {
      "application/vnd.jupyter.widget-view+json": {
       "model_id": "d7ef25aa86544c5f893e01b000f1686e",
       "version_major": 2,
       "version_minor": 0
      },
      "text/plain": [
       "Validation progress:   0%|          | 0/221 [00:00<?, ?it/s]"
      ]
     },
     "metadata": {},
     "output_type": "display_data"
    },
    {
     "name": "stdout",
     "output_type": "stream",
     "text": [
      "Validation accuracy: 0.48242809410071763\n"
     ]
    },
    {
     "data": {
      "application/vnd.jupyter.widget-view+json": {
       "model_id": "f681a5234a344b5eadfd275b8e77809c",
       "version_major": 2,
       "version_minor": 0
      },
      "text/plain": [
       "Training progress:   0%|          | 0/1984 [00:00<?, ?it/s]"
      ]
     },
     "metadata": {},
     "output_type": "display_data"
    },
    {
     "name": "stdout",
     "output_type": "stream",
     "text": [
      "Epoch: 3, Loss: 1.416055947477466 \n"
     ]
    },
    {
     "data": {
      "application/vnd.jupyter.widget-view+json": {
       "model_id": "471739886eb5494980bbc740ade6a389",
       "version_major": 2,
       "version_minor": 0
      },
      "text/plain": [
       "Validation progress:   0%|          | 0/221 [00:00<?, ?it/s]"
      ]
     },
     "metadata": {},
     "output_type": "display_data"
    },
    {
     "name": "stdout",
     "output_type": "stream",
     "text": [
      "Validation accuracy: 0.46725610650226485\n"
     ]
    },
    {
     "data": {
      "application/vnd.jupyter.widget-view+json": {
       "model_id": "2223af437a3344ac87df7653cd3b3bc2",
       "version_major": 2,
       "version_minor": 0
      },
      "text/plain": [
       "Training progress:   0%|          | 0/1984 [00:00<?, ?it/s]"
      ]
     },
     "metadata": {},
     "output_type": "display_data"
    },
    {
     "name": "stdout",
     "output_type": "stream",
     "text": [
      "Epoch: 4, Loss: 1.4091936650427717 \n"
     ]
    },
    {
     "data": {
      "application/vnd.jupyter.widget-view+json": {
       "model_id": "6c8df4ed7cd34db8a4f6770db73954e9",
       "version_major": 2,
       "version_minor": 0
      },
      "text/plain": [
       "Validation progress:   0%|          | 0/221 [00:00<?, ?it/s]"
      ]
     },
     "metadata": {},
     "output_type": "display_data"
    },
    {
     "name": "stdout",
     "output_type": "stream",
     "text": [
      "Validation accuracy: 0.4606992102394885\n"
     ]
    },
    {
     "data": {
      "application/vnd.jupyter.widget-view+json": {
       "model_id": "8534d3bf2e4b43bfbe581a38b8994e33",
       "version_major": 2,
       "version_minor": 0
      },
      "text/plain": [
       "Training progress:   0%|          | 0/1984 [00:00<?, ?it/s]"
      ]
     },
     "metadata": {},
     "output_type": "display_data"
    },
    {
     "name": "stdout",
     "output_type": "stream",
     "text": [
      "Epoch: 5, Loss: 1.4028496268029487 \n"
     ]
    },
    {
     "data": {
      "application/vnd.jupyter.widget-view+json": {
       "model_id": "eb0c191f6d4641a593275702071e5d7b",
       "version_major": 2,
       "version_minor": 0
      },
      "text/plain": [
       "Validation progress:   0%|          | 0/221 [00:00<?, ?it/s]"
      ]
     },
     "metadata": {},
     "output_type": "display_data"
    },
    {
     "name": "stdout",
     "output_type": "stream",
     "text": [
      "Validation accuracy: 0.4794167399864234\n"
     ]
    },
    {
     "data": {
      "application/vnd.jupyter.widget-view+json": {
       "model_id": "0f621150be8c47eaa2d8904f304abc69",
       "version_major": 2,
       "version_minor": 0
      },
      "text/plain": [
       "Training progress:   0%|          | 0/1984 [00:00<?, ?it/s]"
      ]
     },
     "metadata": {},
     "output_type": "display_data"
    },
    {
     "name": "stdout",
     "output_type": "stream",
     "text": [
      "Epoch: 6, Loss: 1.3945789319994093 \n"
     ]
    },
    {
     "data": {
      "application/vnd.jupyter.widget-view+json": {
       "model_id": "4d155c33870146fd831be52afc9673d4",
       "version_major": 2,
       "version_minor": 0
      },
      "text/plain": [
       "Validation progress:   0%|          | 0/221 [00:00<?, ?it/s]"
      ]
     },
     "metadata": {},
     "output_type": "display_data"
    },
    {
     "name": "stdout",
     "output_type": "stream",
     "text": [
      "Validation accuracy: 0.4830578598959244\n",
      "Model weights have been saved\n"
     ]
    },
    {
     "data": {
      "application/vnd.jupyter.widget-view+json": {
       "model_id": "8863e9b6eb75468c9f0eaa049fe8e3e3",
       "version_major": 2,
       "version_minor": 0
      },
      "text/plain": [
       "Training progress:   0%|          | 0/1984 [00:00<?, ?it/s]"
      ]
     },
     "metadata": {},
     "output_type": "display_data"
    },
    {
     "name": "stdout",
     "output_type": "stream",
     "text": [
      "Epoch: 7, Loss: 1.3921655272189306 \n"
     ]
    },
    {
     "data": {
      "application/vnd.jupyter.widget-view+json": {
       "model_id": "d1872b72777f4747874a9296d6517a35",
       "version_major": 2,
       "version_minor": 0
      },
      "text/plain": [
       "Validation progress:   0%|          | 0/221 [00:00<?, ?it/s]"
      ]
     },
     "metadata": {},
     "output_type": "display_data"
    },
    {
     "name": "stdout",
     "output_type": "stream",
     "text": [
      "Validation accuracy: 0.482960972850508\n"
     ]
    },
    {
     "data": {
      "application/vnd.jupyter.widget-view+json": {
       "model_id": "95d25dd222c143d7851d72aae9428b1f",
       "version_major": 2,
       "version_minor": 0
      },
      "text/plain": [
       "Training progress:   0%|          | 0/1984 [00:00<?, ?it/s]"
      ]
     },
     "metadata": {},
     "output_type": "display_data"
    },
    {
     "name": "stdout",
     "output_type": "stream",
     "text": [
      "Epoch: 8, Loss: 1.3890174512557423 \n"
     ]
    },
    {
     "data": {
      "application/vnd.jupyter.widget-view+json": {
       "model_id": "97edf5784d38477b81a1e677d702b16f",
       "version_major": 2,
       "version_minor": 0
      },
      "text/plain": [
       "Validation progress:   0%|          | 0/221 [00:00<?, ?it/s]"
      ]
     },
     "metadata": {},
     "output_type": "display_data"
    },
    {
     "name": "stdout",
     "output_type": "stream",
     "text": [
      "Validation accuracy: 0.4839324618734673\n",
      "Model weights have been saved\n"
     ]
    },
    {
     "data": {
      "application/vnd.jupyter.widget-view+json": {
       "model_id": "9af384f4162849748424bec93f453686",
       "version_major": 2,
       "version_minor": 0
      },
      "text/plain": [
       "Training progress:   0%|          | 0/1984 [00:00<?, ?it/s]"
      ]
     },
     "metadata": {},
     "output_type": "display_data"
    },
    {
     "name": "stdout",
     "output_type": "stream",
     "text": [
      "Epoch: 9, Loss: 1.3832574091188372 \n"
     ]
    },
    {
     "data": {
      "application/vnd.jupyter.widget-view+json": {
       "model_id": "a8d5b48e90964aff906df658d321c7e9",
       "version_major": 2,
       "version_minor": 0
      },
      "text/plain": [
       "Validation progress:   0%|          | 0/221 [00:00<?, ?it/s]"
      ]
     },
     "metadata": {},
     "output_type": "display_data"
    },
    {
     "name": "stdout",
     "output_type": "stream",
     "text": [
      "Validation accuracy: 0.4615921421985966\n"
     ]
    }
   ],
   "source": [
    "model = ModelV1(\n",
    "    in_shape=test_data.shape[1],\n",
    "    out_shape=5,\n",
    "    hidden_units=10\n",
    ")\n",
    "\n",
    "optimizer = torch.optim.Adam(\n",
    "    params=model.parameters(),\n",
    "    lr=0.00001,\n",
    "    weight_decay=0.01\n",
    ")\n",
    "criterion = nn.CrossEntropyLoss()\n",
    "scheduler = torch.optim.lr_scheduler.ReduceLROnPlateau(\n",
    "    optimizer=optimizer, \n",
    "    mode='min', \n",
    "    factor=0.1,\n",
    "    patience=10\n",
    ")\n",
    "\n",
    "epochs = tqdm_notebook(range(10), desc='Epochs')\n",
    "\n",
    "best_acc = -np.inf\n",
    "\n",
    "for epoch in epochs:\n",
    "    loss_avg = train_loop(\n",
    "        data_loader=train_loader,\n",
    "        model=model,\n",
    "        optimizer=optimizer,\n",
    "        criterion=criterion,\n",
    "        epoch=epoch\n",
    "    )\n",
    "\n",
    "    acc_avg = val_loop(\n",
    "        data_loader=val_loader,\n",
    "        model=model,\n",
    "        device=DEVICE,\n",
    "        batch_size=BATCH_SIZE\n",
    "    )\n",
    "    if acc_avg > best_acc:\n",
    "            best_acc = acc_avg\n",
    "            model_save_path = os.path.join('model/', f'model-{epoch}-{acc_avg:.4f}.pth')\n",
    "            torch.save(model.state_dict(), model_save_path)\n",
    "            print('Model weights have been saved')"
   ]
  },
  {
   "cell_type": "markdown",
   "id": "58073a69-b614-4616-841c-8d79691e5a78",
   "metadata": {},
   "source": [
    "## Seems like custom made classifier is not doing so well\n",
    "## Let's try One vs. Rest Logistic Regression for multiclass classification"
   ]
  },
  {
   "cell_type": "code",
   "execution_count": 62,
   "id": "2942ac02-cf86-4936-bb15-842dbc017f5d",
   "metadata": {},
   "outputs": [],
   "source": [
    "from sklearn.model_selection import GridSearchCV\n",
    "from sklearn.linear_model import SGDClassifier"
   ]
  },
  {
   "cell_type": "code",
   "execution_count": 65,
   "id": "61ebbc24-642f-4dc7-a3fe-17b72af66846",
   "metadata": {},
   "outputs": [],
   "source": [
    "# rf_classifier = RandomForestClassifier(\n",
    "#     warm_start=True, \n",
    "#     n_estimators=1, \n",
    "#     criterion='entropy',\n",
    "#     random_state=42,\n",
    "#     # n_jobs=-1\n",
    "# )\n",
    "\n",
    "model = SGDClassifier(loss='log_loss')"
   ]
  },
  {
   "cell_type": "code",
   "execution_count": 72,
   "id": "f3fb0393-13e1-43da-beff-64a0314c36f0",
   "metadata": {},
   "outputs": [
    {
     "data": {
      "application/vnd.jupyter.widget-view+json": {
       "model_id": "2bbbf1440f6944dd93466f6c6e70b7f6",
       "version_major": 2,
       "version_minor": 0
      },
      "text/plain": [
       "Epochs:   0%|          | 0/10 [00:00<?, ?it/s]"
      ]
     },
     "metadata": {},
     "output_type": "display_data"
    },
    {
     "data": {
      "application/vnd.jupyter.widget-view+json": {
       "model_id": "675a58d11f00468688928bf06aff4088",
       "version_major": 2,
       "version_minor": 0
      },
      "text/plain": [
       "Training progress:   0%|          | 0/1984 [00:00<?, ?it/s]"
      ]
     },
     "metadata": {},
     "output_type": "display_data"
    },
    {
     "data": {
      "application/vnd.jupyter.widget-view+json": {
       "model_id": "82b7521ecc42455cbd78d4107caa58f4",
       "version_major": 2,
       "version_minor": 0
      },
      "text/plain": [
       "Validation progress:   0%|          | 0/221 [00:00<?, ?it/s]"
      ]
     },
     "metadata": {},
     "output_type": "display_data"
    },
    {
     "name": "stdout",
     "output_type": "stream",
     "text": [
      "Epoch: 0, Accuracy: 0.265808\n"
     ]
    },
    {
     "data": {
      "application/vnd.jupyter.widget-view+json": {
       "model_id": "0a6e7b4d811c48ffa83e7eafbc0d06e2",
       "version_major": 2,
       "version_minor": 0
      },
      "text/plain": [
       "Training progress:   0%|          | 0/1984 [00:00<?, ?it/s]"
      ]
     },
     "metadata": {},
     "output_type": "display_data"
    },
    {
     "data": {
      "application/vnd.jupyter.widget-view+json": {
       "model_id": "ae3f2c51e17648e1992fdc26e1383463",
       "version_major": 2,
       "version_minor": 0
      },
      "text/plain": [
       "Validation progress:   0%|          | 0/221 [00:00<?, ?it/s]"
      ]
     },
     "metadata": {},
     "output_type": "display_data"
    },
    {
     "name": "stdout",
     "output_type": "stream",
     "text": [
      "Epoch: 1, Accuracy: 0.486792\n"
     ]
    },
    {
     "data": {
      "application/vnd.jupyter.widget-view+json": {
       "model_id": "4b74eb17f13e464188f5d032c01849d1",
       "version_major": 2,
       "version_minor": 0
      },
      "text/plain": [
       "Training progress:   0%|          | 0/1984 [00:00<?, ?it/s]"
      ]
     },
     "metadata": {},
     "output_type": "display_data"
    },
    {
     "data": {
      "application/vnd.jupyter.widget-view+json": {
       "model_id": "194a5c2e2f554e9b8797c57823b98db1",
       "version_major": 2,
       "version_minor": 0
      },
      "text/plain": [
       "Validation progress:   0%|          | 0/221 [00:00<?, ?it/s]"
      ]
     },
     "metadata": {},
     "output_type": "display_data"
    },
    {
     "name": "stdout",
     "output_type": "stream",
     "text": [
      "Epoch: 2, Accuracy: 0.265275\n"
     ]
    },
    {
     "data": {
      "application/vnd.jupyter.widget-view+json": {
       "model_id": "671d7e7a52064c7d9f8c3e20782137a6",
       "version_major": 2,
       "version_minor": 0
      },
      "text/plain": [
       "Training progress:   0%|          | 0/1984 [00:00<?, ?it/s]"
      ]
     },
     "metadata": {},
     "output_type": "display_data"
    },
    {
     "data": {
      "application/vnd.jupyter.widget-view+json": {
       "model_id": "ff3ae8de57cc497e8fb1c43e1bf7b091",
       "version_major": 2,
       "version_minor": 0
      },
      "text/plain": [
       "Validation progress:   0%|          | 0/221 [00:00<?, ?it/s]"
      ]
     },
     "metadata": {},
     "output_type": "display_data"
    },
    {
     "name": "stdout",
     "output_type": "stream",
     "text": [
      "Epoch: 3, Accuracy: 0.265615\n"
     ]
    },
    {
     "data": {
      "application/vnd.jupyter.widget-view+json": {
       "model_id": "f3e51a1906474212ba49e22ee525577c",
       "version_major": 2,
       "version_minor": 0
      },
      "text/plain": [
       "Training progress:   0%|          | 0/1984 [00:00<?, ?it/s]"
      ]
     },
     "metadata": {},
     "output_type": "display_data"
    },
    {
     "data": {
      "application/vnd.jupyter.widget-view+json": {
       "model_id": "17a4fa4e7c8c41bf80c03029a438ce6a",
       "version_major": 2,
       "version_minor": 0
      },
      "text/plain": [
       "Validation progress:   0%|          | 0/221 [00:00<?, ?it/s]"
      ]
     },
     "metadata": {},
     "output_type": "display_data"
    },
    {
     "name": "stdout",
     "output_type": "stream",
     "text": [
      "Epoch: 4, Accuracy: 0.265905\n"
     ]
    },
    {
     "data": {
      "application/vnd.jupyter.widget-view+json": {
       "model_id": "7991f88aea56463aa01dbbafbde28424",
       "version_major": 2,
       "version_minor": 0
      },
      "text/plain": [
       "Training progress:   0%|          | 0/1984 [00:00<?, ?it/s]"
      ]
     },
     "metadata": {},
     "output_type": "display_data"
    },
    {
     "data": {
      "application/vnd.jupyter.widget-view+json": {
       "model_id": "f2e9a62279604339996e42bc2d83351f",
       "version_major": 2,
       "version_minor": 0
      },
      "text/plain": [
       "Validation progress:   0%|          | 0/221 [00:00<?, ?it/s]"
      ]
     },
     "metadata": {},
     "output_type": "display_data"
    },
    {
     "name": "stdout",
     "output_type": "stream",
     "text": [
      "Epoch: 5, Accuracy: 0.486743\n"
     ]
    },
    {
     "data": {
      "application/vnd.jupyter.widget-view+json": {
       "model_id": "3238cbc2cd134600b4e86aa0dbd83508",
       "version_major": 2,
       "version_minor": 0
      },
      "text/plain": [
       "Training progress:   0%|          | 0/1984 [00:00<?, ?it/s]"
      ]
     },
     "metadata": {},
     "output_type": "display_data"
    },
    {
     "data": {
      "application/vnd.jupyter.widget-view+json": {
       "model_id": "897a41392d1e4a5b9c8531fdbb8fb14d",
       "version_major": 2,
       "version_minor": 0
      },
      "text/plain": [
       "Validation progress:   0%|          | 0/221 [00:00<?, ?it/s]"
      ]
     },
     "metadata": {},
     "output_type": "display_data"
    },
    {
     "name": "stdout",
     "output_type": "stream",
     "text": [
      "Epoch: 6, Accuracy: 0.152276\n"
     ]
    },
    {
     "data": {
      "application/vnd.jupyter.widget-view+json": {
       "model_id": "e107774857664e66afa03f0406cf8f86",
       "version_major": 2,
       "version_minor": 0
      },
      "text/plain": [
       "Training progress:   0%|          | 0/1984 [00:00<?, ?it/s]"
      ]
     },
     "metadata": {},
     "output_type": "display_data"
    },
    {
     "data": {
      "application/vnd.jupyter.widget-view+json": {
       "model_id": "285d37bb0b9246d0a01c91aafc8eb723",
       "version_major": 2,
       "version_minor": 0
      },
      "text/plain": [
       "Validation progress:   0%|          | 0/221 [00:00<?, ?it/s]"
      ]
     },
     "metadata": {},
     "output_type": "display_data"
    },
    {
     "name": "stdout",
     "output_type": "stream",
     "text": [
      "Epoch: 7, Accuracy: 0.036212\n"
     ]
    },
    {
     "data": {
      "application/vnd.jupyter.widget-view+json": {
       "model_id": "232c6401ce024bfead33db0859ba8fd0",
       "version_major": 2,
       "version_minor": 0
      },
      "text/plain": [
       "Training progress:   0%|          | 0/1984 [00:00<?, ?it/s]"
      ]
     },
     "metadata": {},
     "output_type": "display_data"
    },
    {
     "data": {
      "application/vnd.jupyter.widget-view+json": {
       "model_id": "61b8de08bdb247fc9368087489ccd343",
       "version_major": 2,
       "version_minor": 0
      },
      "text/plain": [
       "Validation progress:   0%|          | 0/221 [00:00<?, ?it/s]"
      ]
     },
     "metadata": {},
     "output_type": "display_data"
    },
    {
     "name": "stdout",
     "output_type": "stream",
     "text": [
      "Epoch: 8, Accuracy: 0.486356\n"
     ]
    },
    {
     "data": {
      "application/vnd.jupyter.widget-view+json": {
       "model_id": "6762a92c06d94fafb082936715382e40",
       "version_major": 2,
       "version_minor": 0
      },
      "text/plain": [
       "Training progress:   0%|          | 0/1984 [00:00<?, ?it/s]"
      ]
     },
     "metadata": {},
     "output_type": "display_data"
    },
    {
     "data": {
      "application/vnd.jupyter.widget-view+json": {
       "model_id": "4e96db9adb47419c9399540807fc8d8b",
       "version_major": 2,
       "version_minor": 0
      },
      "text/plain": [
       "Validation progress:   0%|          | 0/221 [00:00<?, ?it/s]"
      ]
     },
     "metadata": {},
     "output_type": "display_data"
    },
    {
     "name": "stdout",
     "output_type": "stream",
     "text": [
      "Epoch: 9, Accuracy: 0.486404\n"
     ]
    }
   ],
   "source": [
    "classes = range(5)\n",
    "\n",
    "epochs = tqdm_notebook(range(10), desc='Epochs')\n",
    "\n",
    "for epoch in epochs:\n",
    "    acc_avg = AverageMeter()\n",
    "    \n",
    "    for X, targets in tqdm_notebook(train_loader, desc='Training progress'):\n",
    "        # X = X.numpy()\n",
    "        # targets = targets.numpy()\n",
    "        \n",
    "        model.partial_fit(X, targets, classes=classes)\n",
    "        # rf_classifier.n_estimators += 1\n",
    "\n",
    "    for X, targets in tqdm_notebook(val_loader, desc='Validation progress'):\n",
    "        # X = X.numpy()\n",
    "        # targets = targets.numpy()\n",
    "        \n",
    "        preds = model.predict(X)\n",
    "        acc_avg.update(val=get_accuracy(targets, preds), n=BATCH_SIZE)\n",
    "\n",
    "    print(f'Epoch: {epoch}, Accuracy: {acc_avg.avg:4f}')"
   ]
  },
  {
   "cell_type": "markdown",
   "id": "41e027be-24d4-4584-83e5-86aa37106687",
   "metadata": {},
   "source": [
    "## Conclusion and ways to improve\n",
    "\n",
    "### Model is not the decisive factor of strong predictions here. \n",
    " To further improve we need to work on features. The most significant way to improve would be to create multilingual embeddings based on reviews. We either use M-BERT(train ourselves to russian, cyrillic uzbek and latin uzbek) or TF-IDF(stop words for russian, cyrillic uzbek and latin uzbek). Moreover, we need to add separation for reviews based on language."
   ]
  }
 ],
 "metadata": {
  "kernelspec": {
   "display_name": "uzum-test",
   "language": "python",
   "name": "uzum-test"
  },
  "language_info": {
   "codemirror_mode": {
    "name": "ipython",
    "version": 3
   },
   "file_extension": ".py",
   "mimetype": "text/x-python",
   "name": "python",
   "nbconvert_exporter": "python",
   "pygments_lexer": "ipython3",
   "version": "3.10.14"
  }
 },
 "nbformat": 4,
 "nbformat_minor": 5
}
